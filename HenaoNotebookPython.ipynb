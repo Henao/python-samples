{
  "nbformat": 4,
  "nbformat_minor": 0,
  "metadata": {
    "colab": {
      "name": "HenaoNotebookPython.ipynb",
      "provenance": [],
      "collapsed_sections": [],
      "authorship_tag": "ABX9TyOfqPwxQZOYbJbIq/le6Vfv",
      "include_colab_link": true
    },
    "kernelspec": {
      "name": "python3",
      "display_name": "Python 3"
    }
  },
  "cells": [
    {
      "cell_type": "markdown",
      "metadata": {
        "id": "view-in-github",
        "colab_type": "text"
      },
      "source": [
        "<a href=\"https://colab.research.google.com/github/Henao/python-samples/blob/master/HenaoNotebookPython.ipynb\" target=\"_parent\"><img src=\"https://colab.research.google.com/assets/colab-badge.svg\" alt=\"Open In Colab\"/></a>"
      ]
    },
    {
      "cell_type": "code",
      "metadata": {
        "id": "T98w6oFFUhUB"
      },
      "source": [
        "import numpy as np\n",
        "import pandas as pd\n",
        "import matplotlib.pyplot as plt\n",
        "import sklearn"
      ],
      "execution_count": 78,
      "outputs": []
    },
    {
      "cell_type": "code",
      "metadata": {
        "id": "VClaSVt8Y2ld",
        "outputId": "22d85870-f02b-4875-b93d-09773502c25a",
        "colab": {
          "base_uri": "https://localhost:8080/",
          "height": 677
        }
      },
      "source": [
        "pd.read_csv('https://github.com/JuanPabloMF/datasets-platzi-course/blob/master/datasets/peliculas.csv?raw=true')"
      ],
      "execution_count": 79,
      "outputs": [
        {
          "output_type": "execute_result",
          "data": {
            "text/html": [
              "<div>\n",
              "<style scoped>\n",
              "    .dataframe tbody tr th:only-of-type {\n",
              "        vertical-align: middle;\n",
              "    }\n",
              "\n",
              "    .dataframe tbody tr th {\n",
              "        vertical-align: top;\n",
              "    }\n",
              "\n",
              "    .dataframe thead th {\n",
              "        text-align: right;\n",
              "    }\n",
              "</style>\n",
              "<table border=\"1\" class=\"dataframe\">\n",
              "  <thead>\n",
              "    <tr style=\"text-align: right;\">\n",
              "      <th></th>\n",
              "      <th>movie_title</th>\n",
              "      <th>title_year</th>\n",
              "      <th>color</th>\n",
              "      <th>aspect_ratio</th>\n",
              "      <th>duration</th>\n",
              "      <th>language</th>\n",
              "      <th>country</th>\n",
              "      <th>duration.1</th>\n",
              "      <th>genres</th>\n",
              "      <th>content_rating</th>\n",
              "      <th>plot_keywords</th>\n",
              "      <th>director_name</th>\n",
              "      <th>actor_1_name</th>\n",
              "      <th>actor_2_name</th>\n",
              "      <th>actor_3_name</th>\n",
              "      <th>cast_total_facebook_likes</th>\n",
              "      <th>budget</th>\n",
              "      <th>imdb_score</th>\n",
              "      <th>gross</th>\n",
              "    </tr>\n",
              "  </thead>\n",
              "  <tbody>\n",
              "    <tr>\n",
              "      <th>0</th>\n",
              "      <td>Avatar</td>\n",
              "      <td>2009.0</td>\n",
              "      <td>Color</td>\n",
              "      <td>1.78</td>\n",
              "      <td>178.0</td>\n",
              "      <td>English</td>\n",
              "      <td>USA</td>\n",
              "      <td>178.0</td>\n",
              "      <td>Action|Adventure|Fantasy|Sci-Fi</td>\n",
              "      <td>PG-13</td>\n",
              "      <td>avatar|future|marine|native|paraplegic</td>\n",
              "      <td>James Cameron</td>\n",
              "      <td>CCH Pounder</td>\n",
              "      <td>Joel David Moore</td>\n",
              "      <td>Wes Studi</td>\n",
              "      <td>4834</td>\n",
              "      <td>237000000.0</td>\n",
              "      <td>7.9</td>\n",
              "      <td>760505847.0</td>\n",
              "    </tr>\n",
              "    <tr>\n",
              "      <th>1</th>\n",
              "      <td>Pirates of the Caribbean: At World's End</td>\n",
              "      <td>2007.0</td>\n",
              "      <td>Color</td>\n",
              "      <td>2.35</td>\n",
              "      <td>169.0</td>\n",
              "      <td>English</td>\n",
              "      <td>USA</td>\n",
              "      <td>169.0</td>\n",
              "      <td>Action|Adventure|Fantasy</td>\n",
              "      <td>PG-13</td>\n",
              "      <td>goddess|marriage ceremony|marriage proposal|pi...</td>\n",
              "      <td>Gore Verbinski</td>\n",
              "      <td>Johnny Depp</td>\n",
              "      <td>Orlando Bloom</td>\n",
              "      <td>Jack Davenport</td>\n",
              "      <td>48350</td>\n",
              "      <td>300000000.0</td>\n",
              "      <td>7.1</td>\n",
              "      <td>309404152.0</td>\n",
              "    </tr>\n",
              "    <tr>\n",
              "      <th>2</th>\n",
              "      <td>Spectre</td>\n",
              "      <td>2015.0</td>\n",
              "      <td>Color</td>\n",
              "      <td>2.35</td>\n",
              "      <td>148.0</td>\n",
              "      <td>English</td>\n",
              "      <td>UK</td>\n",
              "      <td>148.0</td>\n",
              "      <td>Action|Adventure|Thriller</td>\n",
              "      <td>PG-13</td>\n",
              "      <td>bomb|espionage|sequel|spy|terrorist</td>\n",
              "      <td>Sam Mendes</td>\n",
              "      <td>Christoph Waltz</td>\n",
              "      <td>Rory Kinnear</td>\n",
              "      <td>Stephanie Sigman</td>\n",
              "      <td>11700</td>\n",
              "      <td>245000000.0</td>\n",
              "      <td>6.8</td>\n",
              "      <td>200074175.0</td>\n",
              "    </tr>\n",
              "    <tr>\n",
              "      <th>3</th>\n",
              "      <td>The Dark Knight Rises</td>\n",
              "      <td>2012.0</td>\n",
              "      <td>Color</td>\n",
              "      <td>2.35</td>\n",
              "      <td>164.0</td>\n",
              "      <td>English</td>\n",
              "      <td>USA</td>\n",
              "      <td>164.0</td>\n",
              "      <td>Action|Thriller</td>\n",
              "      <td>PG-13</td>\n",
              "      <td>deception|imprisonment|lawlessness|police offi...</td>\n",
              "      <td>Christopher Nolan</td>\n",
              "      <td>Tom Hardy</td>\n",
              "      <td>Christian Bale</td>\n",
              "      <td>Joseph Gordon-Levitt</td>\n",
              "      <td>106759</td>\n",
              "      <td>250000000.0</td>\n",
              "      <td>8.5</td>\n",
              "      <td>448130642.0</td>\n",
              "    </tr>\n",
              "    <tr>\n",
              "      <th>4</th>\n",
              "      <td>Star Wars: Episode VII - The Force Awakens    ...</td>\n",
              "      <td>NaN</td>\n",
              "      <td>NaN</td>\n",
              "      <td>NaN</td>\n",
              "      <td>NaN</td>\n",
              "      <td>NaN</td>\n",
              "      <td>NaN</td>\n",
              "      <td>NaN</td>\n",
              "      <td>Documentary</td>\n",
              "      <td>NaN</td>\n",
              "      <td>NaN</td>\n",
              "      <td>Doug Walker</td>\n",
              "      <td>Doug Walker</td>\n",
              "      <td>Rob Walker</td>\n",
              "      <td>NaN</td>\n",
              "      <td>143</td>\n",
              "      <td>NaN</td>\n",
              "      <td>7.1</td>\n",
              "      <td>NaN</td>\n",
              "    </tr>\n",
              "    <tr>\n",
              "      <th>...</th>\n",
              "      <td>...</td>\n",
              "      <td>...</td>\n",
              "      <td>...</td>\n",
              "      <td>...</td>\n",
              "      <td>...</td>\n",
              "      <td>...</td>\n",
              "      <td>...</td>\n",
              "      <td>...</td>\n",
              "      <td>...</td>\n",
              "      <td>...</td>\n",
              "      <td>...</td>\n",
              "      <td>...</td>\n",
              "      <td>...</td>\n",
              "      <td>...</td>\n",
              "      <td>...</td>\n",
              "      <td>...</td>\n",
              "      <td>...</td>\n",
              "      <td>...</td>\n",
              "      <td>...</td>\n",
              "    </tr>\n",
              "    <tr>\n",
              "      <th>5038</th>\n",
              "      <td>Signed Sealed Delivered</td>\n",
              "      <td>2013.0</td>\n",
              "      <td>Color</td>\n",
              "      <td>NaN</td>\n",
              "      <td>87.0</td>\n",
              "      <td>English</td>\n",
              "      <td>Canada</td>\n",
              "      <td>87.0</td>\n",
              "      <td>Comedy|Drama</td>\n",
              "      <td>NaN</td>\n",
              "      <td>fraud|postal worker|prison|theft|trial</td>\n",
              "      <td>Scott Smith</td>\n",
              "      <td>Eric Mabius</td>\n",
              "      <td>Daphne Zuniga</td>\n",
              "      <td>Crystal Lowe</td>\n",
              "      <td>2283</td>\n",
              "      <td>NaN</td>\n",
              "      <td>7.7</td>\n",
              "      <td>NaN</td>\n",
              "    </tr>\n",
              "    <tr>\n",
              "      <th>5039</th>\n",
              "      <td>The Following</td>\n",
              "      <td>NaN</td>\n",
              "      <td>Color</td>\n",
              "      <td>16.00</td>\n",
              "      <td>43.0</td>\n",
              "      <td>English</td>\n",
              "      <td>USA</td>\n",
              "      <td>43.0</td>\n",
              "      <td>Crime|Drama|Mystery|Thriller</td>\n",
              "      <td>TV-14</td>\n",
              "      <td>cult|fbi|hideout|prison escape|serial killer</td>\n",
              "      <td>NaN</td>\n",
              "      <td>Natalie Zea</td>\n",
              "      <td>Valorie Curry</td>\n",
              "      <td>Sam Underwood</td>\n",
              "      <td>1753</td>\n",
              "      <td>NaN</td>\n",
              "      <td>7.5</td>\n",
              "      <td>NaN</td>\n",
              "    </tr>\n",
              "    <tr>\n",
              "      <th>5040</th>\n",
              "      <td>A Plague So Pleasant</td>\n",
              "      <td>2013.0</td>\n",
              "      <td>Color</td>\n",
              "      <td>NaN</td>\n",
              "      <td>76.0</td>\n",
              "      <td>English</td>\n",
              "      <td>USA</td>\n",
              "      <td>76.0</td>\n",
              "      <td>Drama|Horror|Thriller</td>\n",
              "      <td>NaN</td>\n",
              "      <td>NaN</td>\n",
              "      <td>Benjamin Roberds</td>\n",
              "      <td>Eva Boehnke</td>\n",
              "      <td>Maxwell Moody</td>\n",
              "      <td>David Chandler</td>\n",
              "      <td>0</td>\n",
              "      <td>1400.0</td>\n",
              "      <td>6.3</td>\n",
              "      <td>NaN</td>\n",
              "    </tr>\n",
              "    <tr>\n",
              "      <th>5041</th>\n",
              "      <td>Shanghai Calling</td>\n",
              "      <td>2012.0</td>\n",
              "      <td>Color</td>\n",
              "      <td>2.35</td>\n",
              "      <td>100.0</td>\n",
              "      <td>English</td>\n",
              "      <td>USA</td>\n",
              "      <td>100.0</td>\n",
              "      <td>Comedy|Drama|Romance</td>\n",
              "      <td>PG-13</td>\n",
              "      <td>NaN</td>\n",
              "      <td>Daniel Hsia</td>\n",
              "      <td>Alan Ruck</td>\n",
              "      <td>Daniel Henney</td>\n",
              "      <td>Eliza Coupe</td>\n",
              "      <td>2386</td>\n",
              "      <td>NaN</td>\n",
              "      <td>6.3</td>\n",
              "      <td>10443.0</td>\n",
              "    </tr>\n",
              "    <tr>\n",
              "      <th>5042</th>\n",
              "      <td>My Date with Drew</td>\n",
              "      <td>2004.0</td>\n",
              "      <td>Color</td>\n",
              "      <td>1.85</td>\n",
              "      <td>90.0</td>\n",
              "      <td>English</td>\n",
              "      <td>USA</td>\n",
              "      <td>90.0</td>\n",
              "      <td>Documentary</td>\n",
              "      <td>PG</td>\n",
              "      <td>actress name in title|crush|date|four word tit...</td>\n",
              "      <td>Jon Gunn</td>\n",
              "      <td>John August</td>\n",
              "      <td>Brian Herzlinger</td>\n",
              "      <td>Jon Gunn</td>\n",
              "      <td>163</td>\n",
              "      <td>1100.0</td>\n",
              "      <td>6.6</td>\n",
              "      <td>85222.0</td>\n",
              "    </tr>\n",
              "  </tbody>\n",
              "</table>\n",
              "<p>5043 rows × 19 columns</p>\n",
              "</div>"
            ],
            "text/plain": [
              "                                            movie_title  ...        gross\n",
              "0                                               Avatar   ...  760505847.0\n",
              "1             Pirates of the Caribbean: At World's End   ...  309404152.0\n",
              "2                                              Spectre   ...  200074175.0\n",
              "3                                The Dark Knight Rises   ...  448130642.0\n",
              "4     Star Wars: Episode VII - The Force Awakens    ...  ...          NaN\n",
              "...                                                 ...  ...          ...\n",
              "5038                           Signed Sealed Delivered   ...          NaN\n",
              "5039                         The Following               ...          NaN\n",
              "5040                              A Plague So Pleasant   ...          NaN\n",
              "5041                                  Shanghai Calling   ...      10443.0\n",
              "5042                                 My Date with Drew   ...      85222.0\n",
              "\n",
              "[5043 rows x 19 columns]"
            ]
          },
          "metadata": {
            "tags": []
          },
          "execution_count": 79
        }
      ]
    },
    {
      "cell_type": "code",
      "metadata": {
        "id": "6GH1IQhxdHGv",
        "outputId": "294dbf72-9b43-4033-e4eb-755f98029534",
        "colab": {
          "base_uri": "https://localhost:8080/"
        }
      },
      "source": [
        "a1 = np.array([1,2,3,4])\n",
        "a1\n",
        "type(a1)"
      ],
      "execution_count": 80,
      "outputs": [
        {
          "output_type": "execute_result",
          "data": {
            "text/plain": [
              "numpy.ndarray"
            ]
          },
          "metadata": {
            "tags": []
          },
          "execution_count": 80
        }
      ]
    },
    {
      "cell_type": "code",
      "metadata": {
        "id": "tLl6GeSYdpTb",
        "outputId": "2ee1b814-5250-4625-9221-5793f9d21a29",
        "colab": {
          "base_uri": "https://localhost:8080/"
        }
      },
      "source": [
        "a2 = np.arange(10)\n",
        "a2"
      ],
      "execution_count": 81,
      "outputs": [
        {
          "output_type": "execute_result",
          "data": {
            "text/plain": [
              "array([0, 1, 2, 3, 4, 5, 6, 7, 8, 9])"
            ]
          },
          "metadata": {
            "tags": []
          },
          "execution_count": 81
        }
      ]
    },
    {
      "cell_type": "code",
      "metadata": {
        "id": "UIiMpSSXfl8t"
      },
      "source": [
        "a3 = np.zeros((2,3))\n",
        "a4 = np.ones((2,3))"
      ],
      "execution_count": 82,
      "outputs": []
    },
    {
      "cell_type": "code",
      "metadata": {
        "id": "WN-qLa9rfn5q",
        "outputId": "b9060831-f7e1-4039-8116-f6ee82ce4165",
        "colab": {
          "base_uri": "https://localhost:8080/",
          "height": 85
        }
      },
      "source": [
        "from IPython.display import display\n",
        "display(a3);display(a4)"
      ],
      "execution_count": 83,
      "outputs": [
        {
          "output_type": "display_data",
          "data": {
            "text/plain": [
              "array([[0., 0., 0.],\n",
              "       [0., 0., 0.]])"
            ]
          },
          "metadata": {
            "tags": []
          }
        },
        {
          "output_type": "display_data",
          "data": {
            "text/plain": [
              "array([[1., 1., 1.],\n",
              "       [1., 1., 1.]])"
            ]
          },
          "metadata": {
            "tags": []
          }
        }
      ]
    },
    {
      "cell_type": "markdown",
      "metadata": {
        "id": "JTnOwehyaTkb"
      },
      "source": [
        "**np.linspace(a, b, n)** es una función que permite crear arrays de una dimensión, de largo n y que contiene puntos entre ay b distanciados de forma regular. **La distancia entre cada punto será de (b-a)/(n-1)**"
      ]
    },
    {
      "cell_type": "code",
      "metadata": {
        "id": "YyP0EJBMhB8u",
        "outputId": "2bf7cc9c-b5d3-4480-c0b3-b801be2bbc25",
        "colab": {
          "base_uri": "https://localhost:8080/",
          "height": 51
        }
      },
      "source": [
        "a5 = np.linspace(1,5,10)\n",
        "display(a5)"
      ],
      "execution_count": 84,
      "outputs": [
        {
          "output_type": "display_data",
          "data": {
            "text/plain": [
              "array([1.        , 1.44444444, 1.88888889, 2.33333333, 2.77777778,\n",
              "       3.22222222, 3.66666667, 4.11111111, 4.55555556, 5.        ])"
            ]
          },
          "metadata": {
            "tags": []
          }
        }
      ]
    },
    {
      "cell_type": "code",
      "metadata": {
        "id": "hMwaMZVFX41E",
        "outputId": "74d1ad7b-a3c7-4160-b754-c3e41f5776d9",
        "colab": {
          "base_uri": "https://localhost:8080/"
        }
      },
      "source": [
        "a3.dtype"
      ],
      "execution_count": 85,
      "outputs": [
        {
          "output_type": "execute_result",
          "data": {
            "text/plain": [
              "dtype('float64')"
            ]
          },
          "metadata": {
            "tags": []
          },
          "execution_count": 85
        }
      ]
    },
    {
      "cell_type": "markdown",
      "metadata": {
        "id": "gBsomX7iaJ3S"
      },
      "source": [
        "**Dimensión de un Array**"
      ]
    },
    {
      "cell_type": "markdown",
      "metadata": {
        "id": "z7Rp82XCcC1f"
      },
      "source": [
        "Array de dimensión 1, es un vector por eso no aparece la segunda coordenada"
      ]
    },
    {
      "cell_type": "code",
      "metadata": {
        "id": "0i13HSgGYIhB",
        "outputId": "c1c0fd01-2693-4a96-cee3-58643254dba8",
        "colab": {
          "base_uri": "https://localhost:8080/"
        }
      },
      "source": [
        "a1.shape"
      ],
      "execution_count": 86,
      "outputs": [
        {
          "output_type": "execute_result",
          "data": {
            "text/plain": [
              "(4,)"
            ]
          },
          "metadata": {
            "tags": []
          },
          "execution_count": 86
        }
      ]
    },
    {
      "cell_type": "markdown",
      "metadata": {
        "id": "YIC3I8BacaiF"
      },
      "source": [
        "Array de 2 filas y tres columnas, matriz"
      ]
    },
    {
      "cell_type": "code",
      "metadata": {
        "id": "CQfVAbbTcT4t",
        "outputId": "b21d0f09-a0b4-4cd4-b206-44bc62562294",
        "colab": {
          "base_uri": "https://localhost:8080/"
        }
      },
      "source": [
        "a3.shape"
      ],
      "execution_count": 87,
      "outputs": [
        {
          "output_type": "execute_result",
          "data": {
            "text/plain": [
              "(2, 3)"
            ]
          },
          "metadata": {
            "tags": []
          },
          "execution_count": 87
        }
      ]
    },
    {
      "cell_type": "markdown",
      "metadata": {
        "id": "GQRj36kcdBzN"
      },
      "source": [
        "Si lleva doble [[]] se considera una matriz"
      ]
    },
    {
      "cell_type": "code",
      "metadata": {
        "id": "2aUBz7Qvcmfv",
        "outputId": "547b46b9-2dee-44f8-af66-4d9957c13fab",
        "colab": {
          "base_uri": "https://localhost:8080/",
          "height": 51
        }
      },
      "source": [
        "a1D = np.array([1,2,3])\n",
        "a2D = np.array([[1,2,3]])\n",
        "display(a1D.shape)\n",
        "display(a2D.shape)"
      ],
      "execution_count": 88,
      "outputs": [
        {
          "output_type": "display_data",
          "data": {
            "text/plain": [
              "(3,)"
            ]
          },
          "metadata": {
            "tags": []
          }
        },
        {
          "output_type": "display_data",
          "data": {
            "text/plain": [
              "(1, 3)"
            ]
          },
          "metadata": {
            "tags": []
          }
        }
      ]
    },
    {
      "cell_type": "code",
      "metadata": {
        "id": "xQq6ECPlde55",
        "outputId": "d96f77c6-41a6-4971-e032-00bf389fcf62",
        "colab": {
          "base_uri": "https://localhost:8080/"
        }
      },
      "source": [
        "np.array_equal(a1D,a2D)"
      ],
      "execution_count": 89,
      "outputs": [
        {
          "output_type": "execute_result",
          "data": {
            "text/plain": [
              "False"
            ]
          },
          "metadata": {
            "tags": []
          },
          "execution_count": 89
        }
      ]
    },
    {
      "cell_type": "markdown",
      "metadata": {
        "id": "bucKaqb1dyqO"
      },
      "source": [
        "**Reshaping**"
      ]
    },
    {
      "cell_type": "code",
      "metadata": {
        "id": "vitUeDtJd1MX"
      },
      "source": [
        "new_dims = (1, a1D.shape[0])\n",
        "a = a1D.reshape(new_dims)"
      ],
      "execution_count": 90,
      "outputs": []
    },
    {
      "cell_type": "code",
      "metadata": {
        "id": "284yZZIighDP",
        "outputId": "649eca60-875a-495b-d80a-acae4e099508",
        "colab": {
          "base_uri": "https://localhost:8080/"
        }
      },
      "source": [
        "a"
      ],
      "execution_count": 91,
      "outputs": [
        {
          "output_type": "execute_result",
          "data": {
            "text/plain": [
              "array([[1, 2, 3]])"
            ]
          },
          "metadata": {
            "tags": []
          },
          "execution_count": 91
        }
      ]
    },
    {
      "cell_type": "markdown",
      "metadata": {
        "id": "R6duedNIggRu"
      },
      "source": [
        ""
      ]
    },
    {
      "cell_type": "code",
      "metadata": {
        "id": "yFRWUK5vfEHq",
        "outputId": "6eba6604-1278-42be-e6d3-a199400d4838",
        "colab": {
          "base_uri": "https://localhost:8080/"
        }
      },
      "source": [
        "(1, a1D.shape[0])\n"
      ],
      "execution_count": 92,
      "outputs": [
        {
          "output_type": "execute_result",
          "data": {
            "text/plain": [
              "(1, 3)"
            ]
          },
          "metadata": {
            "tags": []
          },
          "execution_count": 92
        }
      ]
    },
    {
      "cell_type": "code",
      "metadata": {
        "id": "MPJsJLpUgwBq",
        "outputId": "19532d7f-bb13-487c-d02e-c7eb148145b9",
        "colab": {
          "base_uri": "https://localhost:8080/"
        }
      },
      "source": [
        "np.array_equal(a,a2D)"
      ],
      "execution_count": 32,
      "outputs": [
        {
          "output_type": "execute_result",
          "data": {
            "text/plain": [
              "True"
            ]
          },
          "metadata": {
            "tags": []
          },
          "execution_count": 32
        }
      ]
    },
    {
      "cell_type": "markdown",
      "metadata": {
        "id": "8xr87UdAhawF"
      },
      "source": [
        "**Accesos a Elementos y Slicing**\n"
      ]
    },
    {
      "cell_type": "code",
      "metadata": {
        "id": "yJ7_VZfIhn53",
        "outputId": "d30e11f2-8c99-441c-a5ab-ba57f4339f94",
        "colab": {
          "base_uri": "https://localhost:8080/"
        }
      },
      "source": [
        "a = np.array([[1,0,3], [4,3,5], [6, 10, -1]])\n",
        "a"
      ],
      "execution_count": 34,
      "outputs": [
        {
          "output_type": "execute_result",
          "data": {
            "text/plain": [
              "array([[ 1,  0,  3],\n",
              "       [ 4,  3,  5],\n",
              "       [ 6, 10, -1]])"
            ]
          },
          "metadata": {
            "tags": []
          },
          "execution_count": 34
        }
      ]
    },
    {
      "cell_type": "markdown",
      "metadata": {
        "id": "eJdHDnMOi5iv"
      },
      "source": [
        "El primer argumento es la linea y el segundo la columna. los arrays estan indexados desde cero"
      ]
    },
    {
      "cell_type": "code",
      "metadata": {
        "id": "FEGUDsKfiVGm",
        "outputId": "fdaf48e9-a927-4ab4-f664-adace4322025",
        "colab": {
          "base_uri": "https://localhost:8080/"
        }
      },
      "source": [
        "a[0,1]"
      ],
      "execution_count": 37,
      "outputs": [
        {
          "output_type": "execute_result",
          "data": {
            "text/plain": [
              "0"
            ]
          },
          "metadata": {
            "tags": []
          },
          "execution_count": 37
        }
      ]
    },
    {
      "cell_type": "markdown",
      "metadata": {
        "id": "kM0chYt9hmPJ"
      },
      "source": [
        ""
      ]
    },
    {
      "cell_type": "code",
      "metadata": {
        "id": "L1G0hJPXjRHq",
        "outputId": "04241b4f-a6fa-49e9-8b7c-738118c264fd",
        "colab": {
          "base_uri": "https://localhost:8080/",
          "height": 85
        }
      },
      "source": [
        "a = np.arange(10)\n",
        "b = np.eye(3)\n",
        "display(a); display(b)"
      ],
      "execution_count": 93,
      "outputs": [
        {
          "output_type": "display_data",
          "data": {
            "text/plain": [
              "array([0, 1, 2, 3, 4, 5, 6, 7, 8, 9])"
            ]
          },
          "metadata": {
            "tags": []
          }
        },
        {
          "output_type": "display_data",
          "data": {
            "text/plain": [
              "array([[1., 0., 0.],\n",
              "       [0., 1., 0.],\n",
              "       [0., 0., 1.]])"
            ]
          },
          "metadata": {
            "tags": []
          }
        }
      ]
    },
    {
      "cell_type": "code",
      "metadata": {
        "id": "i0d_sf1Jl9oA",
        "outputId": "bf7dac7a-552d-4cb6-b558-9c2c4c50bbb1",
        "colab": {
          "base_uri": "https://localhost:8080/"
        }
      },
      "source": [
        "a[5:]"
      ],
      "execution_count": 94,
      "outputs": [
        {
          "output_type": "execute_result",
          "data": {
            "text/plain": [
              "array([5, 6, 7, 8, 9])"
            ]
          },
          "metadata": {
            "tags": []
          },
          "execution_count": 94
        }
      ]
    },
    {
      "cell_type": "code",
      "metadata": {
        "id": "giO4NU77mO7r",
        "outputId": "256ee877-6994-4cf6-b9c9-1d73d57f1809",
        "colab": {
          "base_uri": "https://localhost:8080/"
        }
      },
      "source": [
        "b[0:2,0]"
      ],
      "execution_count": 52,
      "outputs": [
        {
          "output_type": "execute_result",
          "data": {
            "text/plain": [
              "array([1., 0.])"
            ]
          },
          "metadata": {
            "tags": []
          },
          "execution_count": 52
        }
      ]
    },
    {
      "cell_type": "code",
      "metadata": {
        "id": "lQFylzbOovid",
        "outputId": "b7b3d660-bd7c-4483-b713-e3ceb0847f1f",
        "colab": {
          "base_uri": "https://localhost:8080/"
        }
      },
      "source": [
        "b[1,0:3]"
      ],
      "execution_count": 95,
      "outputs": [
        {
          "output_type": "execute_result",
          "data": {
            "text/plain": [
              "array([0., 1., 0.])"
            ]
          },
          "metadata": {
            "tags": []
          },
          "execution_count": 95
        }
      ]
    },
    {
      "cell_type": "code",
      "metadata": {
        "id": "ygtB0X62pXB8",
        "outputId": "cdaa416f-7329-45a1-c768-48b00f0fc5f6",
        "colab": {
          "base_uri": "https://localhost:8080/"
        }
      },
      "source": [
        "b[2:,:]"
      ],
      "execution_count": null,
      "outputs": [
        {
          "output_type": "execute_result",
          "data": {
            "text/plain": [
              "array([[0., 0., 1.]])"
            ]
          },
          "metadata": {
            "tags": []
          },
          "execution_count": 65
        }
      ]
    },
    {
      "cell_type": "code",
      "metadata": {
        "id": "vf0-Gbjqr-NQ",
        "outputId": "4109418e-aec0-4b2c-d8c2-b6d473a4f5bc",
        "colab": {
          "base_uri": "https://localhost:8080/"
        }
      },
      "source": [
        "z = np.arange(4)\n",
        "print('z      =', z)\n",
        "print('z + 5 =', z + 5)\n",
        "print('z - 5 =', z - 5)\n",
        "print('z * 2 =', z * 2)\n",
        "print('z / 2 =', z / 2)\n",
        "print('z // 2 =', z // 2)\n",
        "print('-z     =', -z)\n",
        "print('z ** 2 =', z ** 2)\n",
        "print('z % 2 =', z % 2)"
      ],
      "execution_count": null,
      "outputs": [
        {
          "output_type": "stream",
          "text": [
            "z      = [0 1 2 3]\n",
            "z + 5 = [5 6 7 8]\n",
            "z - 5 = [-5 -4 -3 -2]\n",
            "z * 2 = [0 2 4 6]\n",
            "z / 2 = [0.  0.5 1.  1.5]\n",
            "z // 2 = [0 0 1 1]\n",
            "-z     = [ 0 -1 -2 -3]\n",
            "z ** 2 = [0 1 4 9]\n",
            "z % 2 = [0 1 0 1]\n"
          ],
          "name": "stdout"
        }
      ]
    },
    {
      "cell_type": "code",
      "metadata": {
        "id": "DHOUUe3o0BSF",
        "outputId": "846d67bc-7192-4934-aa1e-79729b0f2f16",
        "colab": {
          "base_uri": "https://localhost:8080/"
        }
      },
      "source": [
        "z+z"
      ],
      "execution_count": 96,
      "outputs": [
        {
          "output_type": "execute_result",
          "data": {
            "text/plain": [
              "array([0, 2, 4, 6])"
            ]
          },
          "metadata": {
            "tags": []
          },
          "execution_count": 96
        }
      ]
    },
    {
      "cell_type": "code",
      "metadata": {
        "id": "uKaU42LUIwLw",
        "outputId": "69b2bb01-95d4-4def-bb49-085162a47c34",
        "colab": {
          "base_uri": "https://localhost:8080/",
          "height": 85
        }
      },
      "source": [
        "x = np.arange(4)\n",
        "b = np.arange(1,5)\n",
        "\n",
        "display(np.exp(x))  #exponencial\n",
        "display(np.log(b))  #logaritmo\n",
        "display(np.sqrt(x))  #raiz cuadrada\n",
        "display(np.greater(b,x)) #superior o igual punto a punto\n"
      ],
      "execution_count": 102,
      "outputs": [
        {
          "output_type": "display_data",
          "data": {
            "text/plain": [
              "array([ 1.        ,  2.71828183,  7.3890561 , 20.08553692])"
            ]
          },
          "metadata": {
            "tags": []
          }
        },
        {
          "output_type": "display_data",
          "data": {
            "text/plain": [
              "array([0.        , 0.69314718, 1.09861229, 1.38629436])"
            ]
          },
          "metadata": {
            "tags": []
          }
        },
        {
          "output_type": "display_data",
          "data": {
            "text/plain": [
              "array([0.        , 1.        , 1.41421356, 1.73205081])"
            ]
          },
          "metadata": {
            "tags": []
          }
        },
        {
          "output_type": "display_data",
          "data": {
            "text/plain": [
              "array([ True,  True,  True,  True])"
            ]
          },
          "metadata": {
            "tags": []
          }
        }
      ]
    },
    {
      "cell_type": "code",
      "metadata": {
        "id": "E98Sbe92NoRZ",
        "outputId": "68349150-2476-4894-ebe1-cf5ba731a9af",
        "colab": {
          "base_uri": "https://localhost:8080/",
          "height": 51
        }
      },
      "source": [
        "display(x); display(b)"
      ],
      "execution_count": 101,
      "outputs": [
        {
          "output_type": "display_data",
          "data": {
            "text/plain": [
              "array([0, 1, 2, 3])"
            ]
          },
          "metadata": {
            "tags": []
          }
        },
        {
          "output_type": "display_data",
          "data": {
            "text/plain": [
              "array([1, 2, 3, 4])"
            ]
          },
          "metadata": {
            "tags": []
          }
        }
      ]
    },
    {
      "cell_type": "code",
      "metadata": {
        "id": "VaNhs8xXTEPS",
        "outputId": "39d04c47-e87a-4be5-877b-3b5881418b5f",
        "colab": {
          "base_uri": "https://localhost:8080/"
        }
      },
      "source": [
        "%%timeit\n",
        "a = np.arange(1000000)\n",
        "b = np.zeros(1000000)\n",
        "i= 0\n",
        "for el in a:\n",
        "  b[i] = el +el\n",
        "  i+=1\n"
      ],
      "execution_count": 103,
      "outputs": [
        {
          "output_type": "stream",
          "text": [
            "1 loop, best of 3: 295 ms per loop\n"
          ],
          "name": "stdout"
        }
      ]
    },
    {
      "cell_type": "code",
      "metadata": {
        "id": "g48kVcQsWrrD",
        "outputId": "aa0f25d5-0cf3-4821-bdff-4601c4a03b7d",
        "colab": {
          "base_uri": "https://localhost:8080/"
        }
      },
      "source": [
        "%%timeit\n",
        "a+a"
      ],
      "execution_count": 104,
      "outputs": [
        {
          "output_type": "stream",
          "text": [
            "The slowest run took 229.15 times longer than the fastest. This could mean that an intermediate result is being cached.\n",
            "1000000 loops, best of 3: 560 ns per loop\n"
          ],
          "name": "stdout"
        }
      ]
    },
    {
      "cell_type": "markdown",
      "metadata": {
        "id": "YECnfAexXKYH"
      },
      "source": [
        "**Estadistica y aleatoriedad**"
      ]
    },
    {
      "cell_type": "code",
      "metadata": {
        "id": "G2BaUBEZUv1j",
        "outputId": "4d0f26c0-64f8-46e8-e79e-2221a40fa0cd",
        "colab": {
          "base_uri": "https://localhost:8080/",
          "height": 51
        }
      },
      "source": [
        "#estadistica\n",
        "a = np.arange(10)\n",
        "\n",
        "display(np.mean(a))  #promedio\n",
        "display(np.median(a)) # Mediana\n"
      ],
      "execution_count": 105,
      "outputs": [
        {
          "output_type": "display_data",
          "data": {
            "text/plain": [
              "4.5"
            ]
          },
          "metadata": {
            "tags": []
          }
        },
        {
          "output_type": "display_data",
          "data": {
            "text/plain": [
              "4.5"
            ]
          },
          "metadata": {
            "tags": []
          }
        }
      ]
    },
    {
      "cell_type": "code",
      "metadata": {
        "id": "CXh1D1YSXexu",
        "outputId": "ca5b6701-2af9-40d9-fa3e-66a021c5544b",
        "colab": {
          "base_uri": "https://localhost:8080/"
        }
      },
      "source": [
        "np.percentile(a,40)  #percentil"
      ],
      "execution_count": 106,
      "outputs": [
        {
          "output_type": "execute_result",
          "data": {
            "text/plain": [
              "3.6"
            ]
          },
          "metadata": {
            "tags": []
          },
          "execution_count": 106
        }
      ]
    },
    {
      "cell_type": "code",
      "metadata": {
        "id": "myKD4fuTXtco",
        "outputId": "3688a93f-d7b5-4b81-df8a-42b3fad17b2d",
        "colab": {
          "base_uri": "https://localhost:8080/"
        }
      },
      "source": [
        "np.random.random(10) #Aleatoreidad"
      ],
      "execution_count": 108,
      "outputs": [
        {
          "output_type": "execute_result",
          "data": {
            "text/plain": [
              "array([0.6113328 , 0.41659234, 0.85154157, 0.36025101, 0.23776954,\n",
              "       0.05073163, 0.31220093, 0.53071072, 0.43843654, 0.73201887])"
            ]
          },
          "metadata": {
            "tags": []
          },
          "execution_count": 108
        }
      ]
    }
  ]
}